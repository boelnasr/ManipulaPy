{
 "cells": [
  {
   "cell_type": "code",
   "execution_count": 2,
   "metadata": {},
   "outputs": [],
   "source": [
    "#!/usr/bin/env python3\n",
    "\n",
    "from ManipulaPy.urdf_processor import URDFToSerialManipulator\n",
    "from math import pi\n",
    "import numpy as np\n"
   ]
  },
  {
   "cell_type": "code",
   "execution_count": 3,
   "metadata": {},
   "outputs": [],
   "source": [
    "# Path to your URDF file\n",
    "urdf_file_path = \"ur5/ur5/ur5.urdf\"\n",
    "\n",
    "# Initialize the URDFToSerialManipulator with the URDF file\n",
    "urdf_processor = URDFToSerialManipulator(urdf_file_path)\n",
    "\n",
    "# Extract the SerialManipulator object\n",
    "ur5 = urdf_processor.serial_manipulator"
   ]
  },
  {
   "cell_type": "markdown",
   "metadata": {},
   "source": [
    "# Screw Axis Theory in Robotics\n",
    "\n",
    "Screw axis theory is a fundamental concept in robotics and mechanical engineering, providing a powerful framework for describing and analyzing the motion of rigid bodies in three-dimensional space. This theory is particularly useful in the context of robotic manipulators, where understanding and controlling the motion of joints and links is crucial.\n",
    "\n",
    "## Understanding Screw Axis\n",
    "\n",
    "A screw motion in three-dimensional space can be thought of as a combination of a rotation about an axis and a translation along the same axis. This concept is encapsulated in the screw axis, which is defined by the following parameters:\n",
    "\n",
    "- **Axis of Rotation**: A line in space about which the rotation occurs.\n",
    "- **Angle of Rotation**: The magnitude of rotation about the axis.\n",
    "- **Direction of Translation**: The direction along the axis in which the translation occurs.\n",
    "- **Magnitude of Translation**: The distance moved along the axis.\n",
    "\n",
    "## Representation of Screw Axis\n",
    "\n",
    "In robotics, the screw axis is often represented as a 6-dimensional vector, known as a twist. The twist vector combines the angular velocity (representing rotation) and linear velocity (representing translation) of a rigid body:\n",
    "\n",
    "$$\n",
    "\\text{T} = \\begin{bmatrix} \\omega \\\\ v \\end{bmatrix}\n",
    "$$\n",
    "where:\n",
    "- $\\omega$ is a 3-dimensional vector representing the angular velocity.\n",
    "- $v$ is a 3-dimensional vector representing the linear velocity.\n",
    "\n",
    "# Twist Expression in Terms of Screw Axis\n",
    "\n",
    "The twist vector associated with motion about a screw axis can be expressed in terms of the screw axis parameters:\n",
    "\n",
    "- **Unit Vector ( $\\hat{s}$ )**: A unit vector along the screw axis, representing the direction of the axis.\n",
    "- **Point on the Axis \\( $q$ \\)**: A point through which the screw axis passes.\n",
    "- **Screw Pitch \\( $h$ \\)**: The ratio of translation to rotation along the screw axis.\n",
    "\n",
    "Given these parameters and an angular velocity  $\\theta_{\\dot{}}$ about the screw axis, the twist $V$ can be expressed as:\n",
    "\n",
    "$$\n",
    "V = \\begin{bmatrix} \\omega \\\\ v \\end{bmatrix} = \\begin{bmatrix} \\hat{s} \\theta_{\\dot{}} \\\\ (q \\times \\hat{s}) \\theta_{\\dot{}} + h \\hat{s} \\theta_{\\dot{}} \\end{bmatrix}\n",
    "$$\n",
    "\n",
    "Here:\n",
    "-  $\\omega$ = $\\hat{s}$ $\\theta_{\\dot{}}$  is the angular velocity component of the twist, representing rotation about the screw axis.\n",
    "- $v$ = -$\\hat{s}$ $\\theta_{\\dot{}}$   $\\times$ $q$ + $h$ $\\hat{s}$ $\\theta_{\\dot{}}$  is the linear velocity component of the twist, representing translation along the screw axis.\n",
    "\n",
    "\n",
    "## Mathematical Tools\n",
    "\n",
    "### Matrix Exponential and Logarithm\n",
    "- **Matrix Exponential (`MatrixExp6`)**: Converts a twist (screw axis representation) into a transformation matrix, which is used to describe the pose of a rigid body.\n",
    "- **Matrix Logarithm (`MatrixLog6`)**: The inverse operation, used to convert a transformation matrix back into a twist.\n",
    "\n",
    "These mathematical tools are key to applying screw theory in practical robotics applications, enabling the conversion between different representations of motion and facilitating the computation of robot dynamics and kinematics.\n"
   ]
  },
  {
   "cell_type": "markdown",
   "metadata": {},
   "source": [
    "# Forward Kinematics Using Screw Axis Theory\n",
    "\n",
    "Forward kinematics in robotics is the process of determining the position and orientation of the end-effector given the joint parameters (like angles for revolute joints or displacements for prismatic joints). Screw axis theory provides a powerful framework for analyzing and computing forward kinematics, especially for robotic arms.\n",
    "\n",
    "## Screw Axis Theory in Robotics\n",
    "\n",
    "Screw axis theory describes the motion of a rigid body as a combination of rotation and translation along a screw axis. This motion can be represented by a twist vector:\n",
    "\n",
    "$$\n",
    "\\xi = \\begin{bmatrix} \\omega \\\\ v \\end{bmatrix}\n",
    "$$\n",
    "\n",
    "where $( \\omega )$ is the angular velocity vector and $( v )$ is the linear velocity vector.\n",
    "\n",
    "## Application in Forward Kinematics\n",
    "\n",
    "In the context of forward kinematics, each joint of a robotic manipulator can be associated with a screw axis. The motion of the joint results in a rigid body transformation that can be described using the exponential map of the twist associated with the joint.\n",
    "\n",
    "### Exponential Map of a Twist\n",
    "\n",
    "The exponential map of a twist $( x_i )$ for a joint with an angle $( \\theta )$ is given by:\n",
    "\n",
    "$$\n",
    "T = \\exp(\\hat{\\xi} \\theta)\n",
    "$$\n",
    "\n",
    "where $( \\hat{\\xi} )$ is the twist in matrix form and $( \\exp )$ denotes the matrix exponential.\n",
    "\n",
    "### Computing the End-Effector Pose\n",
    "\n",
    "The pose of the end-effector is obtained by chaining the transformations of each joint:\n",
    "\n",
    "$$\n",
    "T_{\\text{end-effector}} = T_1 T_2 \\cdots T_n\n",
    "$$\n",
    "\n",
    "where $( T_i )$ is the transformation matrix for the \\( i \\)-th joint, computed using the exponential map of its associated twist.\n",
    "\n"
   ]
  },
  {
   "cell_type": "code",
   "execution_count": 4,
   "metadata": {},
   "outputs": [],
   "source": [
    "# Example joint angles (thetalist) for the manipulator\n",
    "thetalist = np.array([pi, pi/6, pi/4, -pi/3, -pi/2, (-2*pi/3)])\n",
    "dthetalist = np.array([0.1, 0.1, 0.1, 0.1, 0.1, 0.1])\n",
    "ddthetalist = np.array([0.1, 0.1, 0.1, 0.1, 0.1, 0.1])\n"
   ]
  },
  {
   "cell_type": "code",
   "execution_count": 5,
   "metadata": {},
   "outputs": [
    {
     "name": "stdout",
     "output_type": "stream",
     "text": [
      "[[   -0.22414     0.96593     0.12941     0.04353]\n",
      " [        0.5 -2.2931e-16     0.86603     -1.1624]\n",
      " [    0.83652     0.25882    -0.48296     -1.3458]\n",
      " [          0           0           0           1]]\n"
     ]
    }
   ],
   "source": [
    "T=ur5.forward_kinematics(thetalist,frame='space')\n",
    "print(T)\n"
   ]
  },
  {
   "cell_type": "code",
   "execution_count": 6,
   "metadata": {},
   "outputs": [
    {
     "name": "stderr",
     "output_type": "stream",
     "text": [
      "2025-04-14 16:00:18 - OpenGL.acceleratesupport - INFO - No OpenGL_accelerate module loaded: No module named 'OpenGL_accelerate'\n"
     ]
    }
   ],
   "source": [
    "ur5_d=urdf_processor.dynamics\n",
    "tau=ur5_d.inverse_dynamics(thetalist, dthetalist, ddthetalist, [0,0,-9.81], [0]*6)\n",
    "urdf_processor.visualize_robot()"
   ]
  },
  {
   "cell_type": "code",
   "execution_count": 7,
   "metadata": {},
   "outputs": [
    {
     "name": "stderr",
     "output_type": "stream",
     "text": [
      "2025-04-14 16:00:23 - ManipulaPy.path_planning - INFO - Generating joint trajectory.\n",
      "2025-04-14 16:00:23 - numba.cuda.cudadrv.driver - INFO - init\n",
      "/home/abo/.local/lib/python3.10/site-packages/numba/cuda/dispatcher.py:536: NumbaPerformanceWarning: \u001b[1mGrid size 4 will likely result in GPU under-utilization due to low occupancy.\u001b[0m\n",
      "  warn(NumbaPerformanceWarning(msg))\n",
      "2025-04-14 16:00:25 - numba.cuda.cudadrv.driver - INFO - add pending dealloc: cuMemFree_v2 24 bytes\n",
      "2025-04-14 16:00:25 - numba.cuda.cudadrv.driver - INFO - add pending dealloc: cuMemFree_v2 24 bytes\n",
      "2025-04-14 16:00:25 - numba.cuda.cudadrv.driver - INFO - add pending dealloc: cuMemFree_v2 24000 bytes\n",
      "2025-04-14 16:00:25 - numba.cuda.cudadrv.driver - INFO - add pending dealloc: cuMemFree_v2 24000 bytes\n",
      "2025-04-14 16:00:25 - numba.cuda.cudadrv.driver - INFO - add pending dealloc: cuMemFree_v2 24000 bytes\n"
     ]
    }
   ],
   "source": [
    "from ManipulaPy.path_planning import TrajectoryPlanning as tp\n",
    "\n",
    "\n",
    "Joint_limits = [\n",
    "    (-np.pi, np.pi),  # Joint 1\n",
    "    (-np.pi/2, np.pi/2),  # Joint 2\n",
    "    (-np.pi/2, np.pi/2),  # Joint 3\n",
    "    (-np.pi, np.pi/3),  # Joint 4\n",
    "    (-np.pi/2, np.pi),  # Joint 5\n",
    "    (-np.pi, np.pi)   # Joint 6\n",
    "]\n",
    "trr=tp(urdf_path=urdf_file_path,serial_manipulator=ur5,dynamics=ur5_d,joint_limits=Joint_limits,torque_limits=None)\n",
    "traj = trr.joint_trajectory(thetastart=[0]*6,thetaend=thetalist,Tf=5,N=1000,method=5)\n",
    "\n",
    "#tp.plot_trajectory(trajectory_data=traj,Tf=10)"
   ]
  },
  {
   "cell_type": "code",
   "execution_count": 8,
   "metadata": {},
   "outputs": [
    {
     "name": "stderr",
     "output_type": "stream",
     "text": [
      "/home/abo/.local/lib/python3.10/site-packages/numba/cuda/dispatcher.py:536: NumbaPerformanceWarning: \u001b[1mGrid size 1 will likely result in GPU under-utilization due to low occupancy.\u001b[0m\n",
      "  warn(NumbaPerformanceWarning(msg))\n",
      "2025-04-14 16:00:26 - numba.cuda.cudadrv.driver - INFO - add pending dealloc: cuMemFree_v2 24000 bytes\n",
      "2025-04-14 16:00:26 - numba.cuda.cudadrv.driver - INFO - add pending dealloc: cuMemFree_v2 24000 bytes\n",
      "2025-04-14 16:00:26 - numba.cuda.cudadrv.driver - INFO - add pending dealloc: cuMemFree_v2 24000 bytes\n",
      "2025-04-14 16:00:26 - numba.cuda.cudadrv.driver - INFO - add pending dealloc: cuMemFree_v2 24 bytes\n",
      "2025-04-14 16:00:26 - numba.cuda.cudadrv.driver - INFO - add pending dealloc: cuMemFree_v2 24 bytes\n",
      "2025-04-14 16:00:26 - numba.cuda.cudadrv.driver - INFO - add pending dealloc: cuMemFree_v2 864 bytes\n",
      "2025-04-14 16:00:26 - numba.cuda.cudadrv.driver - INFO - dealloc: cuMemFree_v2 24 bytes\n",
      "2025-04-14 16:00:26 - numba.cuda.cudadrv.driver - INFO - dealloc: cuMemFree_v2 24 bytes\n",
      "2025-04-14 16:00:26 - numba.cuda.cudadrv.driver - INFO - dealloc: cuMemFree_v2 24000 bytes\n",
      "2025-04-14 16:00:26 - numba.cuda.cudadrv.driver - INFO - dealloc: cuMemFree_v2 24000 bytes\n",
      "2025-04-14 16:00:26 - numba.cuda.cudadrv.driver - INFO - dealloc: cuMemFree_v2 24000 bytes\n",
      "2025-04-14 16:00:26 - numba.cuda.cudadrv.driver - INFO - dealloc: cuMemFree_v2 24000 bytes\n",
      "2025-04-14 16:00:26 - numba.cuda.cudadrv.driver - INFO - dealloc: cuMemFree_v2 24000 bytes\n",
      "2025-04-14 16:00:26 - numba.cuda.cudadrv.driver - INFO - dealloc: cuMemFree_v2 24000 bytes\n",
      "2025-04-14 16:00:26 - numba.cuda.cudadrv.driver - INFO - dealloc: cuMemFree_v2 24 bytes\n",
      "2025-04-14 16:00:26 - numba.cuda.cudadrv.driver - INFO - dealloc: cuMemFree_v2 24 bytes\n",
      "2025-04-14 16:00:26 - numba.cuda.cudadrv.driver - INFO - dealloc: cuMemFree_v2 864 bytes\n",
      "2025-04-14 16:00:26 - numba.cuda.cudadrv.driver - INFO - add pending dealloc: cuMemFree_v2 144 bytes\n",
      "2025-04-14 16:00:26 - numba.cuda.cudadrv.driver - INFO - add pending dealloc: cuMemFree_v2 64 bytes\n",
      "2025-04-14 16:00:26 - numba.cuda.cudadrv.driver - INFO - add pending dealloc: cuMemFree_v2 24000 bytes\n",
      "2025-04-14 16:00:26 - numba.cuda.cudadrv.driver - INFO - add pending dealloc: cuMemFree_v2 96 bytes\n"
     ]
    }
   ],
   "source": [
    "positions = traj['positions']\n",
    "velocities = traj['velocities']\n",
    "accelerations = traj['accelerations']\n",
    "traj_tau = trr.inverse_dynamics_trajectory(positions,velocities,accelerations)\n"
   ]
  }
 ],
 "metadata": {
  "kernelspec": {
   "display_name": "Python 3",
   "language": "python",
   "name": "python3"
  },
  "language_info": {
   "codemirror_mode": {
    "name": "ipython",
    "version": 3
   },
   "file_extension": ".py",
   "mimetype": "text/x-python",
   "name": "python",
   "nbconvert_exporter": "python",
   "pygments_lexer": "ipython3",
   "version": "3.10.12"
  }
 },
 "nbformat": 4,
 "nbformat_minor": 2
}
